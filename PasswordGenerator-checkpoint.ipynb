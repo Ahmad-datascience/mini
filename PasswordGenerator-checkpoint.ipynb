{
 "cells": [
  {
   "cell_type": "markdown",
   "id": "7bbdf412-1c04-437d-a749-7d47457b23f0",
   "metadata": {},
   "source": [
    "\n",
    "# Password Generator using Python's secrets module\n",
    "\n",
    "- Creates a random password with lowercase, uppercase, digits, and symbols\n",
    "- Password length can be set between 8 and 20 characters (default 12)\n",
    "- Always includes at least one character from each category\n",
    "- Uses a secure random generator for strong passwords\n",
    "\n",
    "Usage:\n",
    "Run the script and enter the desired password length when asked.\n",
    "If no input is given, it defaults to 12 characters.\n",
    "\n"
   ]
  },
  {
   "cell_type": "code",
   "execution_count": 1,
   "id": "4dd69231-fbbc-474f-bef1-36fb56c85494",
   "metadata": {},
   "outputs": [
    {
     "name": "stdout",
     "output_type": "stream",
     "text": [
      "Welcome to the Password Generator! \n"
     ]
    },
    {
     "name": "stdin",
     "output_type": "stream",
     "text": [
      "Enter length (default 12, range 8–20):  8\n"
     ]
    },
    {
     "name": "stdout",
     "output_type": "stream",
     "text": [
      "Your password (8 chars): Q#wu?7N[\n"
     ]
    }
   ],
   "source": [
    "import secrets\n",
    "\n",
    "L = \"abcdefghjkmnpqrstuvwxyz\"\n",
    "U = \"ABCDEFGHJKMNPQRSTUVWXYZ\"\n",
    "D = \"23456789\"\n",
    "S = \"!@#$%^&*()-_=+[]{};:,.?/\"\n",
    "ALL = L + U + D + S\n",
    "\n",
    "def generate_password(length=12):\n",
    "    try: length = int(length)\n",
    "    except: length = 12\n",
    "    length = max(0, min(20, length))\n",
    "    pwd = [secrets.choice(x) for x in (L, U, D, S)]\n",
    "    pwd += [secrets.choice(ALL) for _ in range(length - 4)]\n",
    "    for i in range(len(pwd) - 1, 0, -1):\n",
    "        j = secrets.randbelow(i + 1)\n",
    "        pwd[i], pwd[j] = pwd[j], pwd[i]\n",
    "    return ''.join(pwd)\n",
    "\n",
    "if __name__ == \"__main__\":\n",
    "    print(\"Welcome to the Password Generator! \")\n",
    "    entry = input(\"Enter length (default 12, range 8–20): \").strip()\n",
    "    pw = generate_password(entry if entry else 12)\n",
    "    print(f\"Your password ({len(pw)} chars): {pw}\")\n"
   ]
  },
  {
   "cell_type": "code",
   "execution_count": null,
   "id": "0d2160bf-f34d-4346-99c2-b9fee7e5996b",
   "metadata": {},
   "outputs": [],
   "source": []
  }
 ],
 "metadata": {
  "kernelspec": {
   "display_name": "Python 3 (ipykernel)",
   "language": "python",
   "name": "python3"
  },
  "language_info": {
   "codemirror_mode": {
    "name": "ipython",
    "version": 3
   },
   "file_extension": ".py",
   "mimetype": "text/x-python",
   "name": "python",
   "nbconvert_exporter": "python",
   "pygments_lexer": "ipython3",
   "version": "3.13.5"
  }
 },
 "nbformat": 4,
 "nbformat_minor": 5
}
