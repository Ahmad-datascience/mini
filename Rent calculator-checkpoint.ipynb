# About the Project: Hostel/Flat Expense Splitter

# This Python mini project calculates and splits monthly shared living expenses among roommates.
# It takes inputs such as rent, food cost, electricity usage, and the number of people,
# then calculates how much each person needs to pay.

# Features:
# - Accepts inputs for rent, food, electricity units, and charge per unit
# - Calculates total monthly expenses
# - Splits the cost equally among all roommates
# - Simple and beginner-friendly CLI interface
# - Useful for hostel or shared flat budgeting


rent = int(input("Enter your hostel/flat rent = "))
food = int(input("Enter the amount of food ordered = "))
electricity_units = int(input("Enter the total of electricity spend (in units) = "))
charge_per_unit = int(input("Enter the charge per unit = "))
num_persons = int(input("Enter the number of persons living in room/flat = "))

# Calculation Section
total_electricity = electricity_units * charge_per_unit
total_expense = rent + food + total_electricity
each_person_pays = total_expense // num_persons

# Output Section
print("Each person will pay = ", each_person_pays)
