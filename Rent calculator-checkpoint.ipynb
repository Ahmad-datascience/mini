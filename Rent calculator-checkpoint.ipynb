{
 "cells": [
  {
   "cell_type": "markdown",
   "id": "58ea8bca-84ac-49c0-8557-eee8c18466c0",
   "metadata": {
    "jp-MarkdownHeadingCollapsed": true
   },
   "source": [
    "# About the Project: Hostel/Flat Expense Splitter\n",
    "\n",
    "This Python mini project calculates and splits monthly shared living expenses among roommates. It takes inputs such as rent, food cost, electricity usage, and the number of people, then calculates how much each person needs to pay.\n",
    "\n",
    "# Features:\n",
    "\n",
    "Accepts inputs for rent, food, electricity units, and charge per unit\n",
    "\n",
    "Calculates total monthly expenses\n",
    "\n",
    "Splits the cost equally among all roommates\n",
    "\n",
    "Simple and beginner-friendly CLI interface\n",
    "\n",
    "Useful for hostel or shared flat budgeting"
   ]
  },
  {
   "cell_type": "code",
   "execution_count": 2,
   "id": "5fb4f4c4-c397-498f-8cd8-e77d9a917081",
   "metadata": {
    "scrolled": true
   },
   "outputs": [
    {
     "name": "stdin",
     "output_type": "stream",
     "text": [
      "Enter your hostel/flat rent =  7000\n",
      "Enter the amount of food ordered =  1200\n",
      "Enter the total of electricity spent (in units) =  1233\n",
      "Enter the charge per unit =  9\n",
      "Enter the number of persons living in room/flat =  3\n"
     ]
    },
    {
     "name": "stdout",
     "output_type": "stream",
     "text": [
      "\n",
      "------ Expense Summary ------\n",
      "Total Rent: ₹7000.00\n",
      "Total Food: ₹1200.00\n",
      "Total Electricity: ₹11097.00\n",
      "Overall Monthly Expense: ₹19297.00\n",
      "Each person will pay: ₹6432.33\n"
     ]
    }
   ],
   "source": [
    "# Hostel/Flat Expense Splitter - Improved Version\n",
    "\n",
    "# Inputs\n",
    "rent = float(input(\"Enter your hostel/flat rent = \"))\n",
    "food = float(input(\"Enter the amount of food ordered = \"))\n",
    "electricity_units = float(input(\"Enter the total of electricity spent (in units) = \"))\n",
    "charge_per_unit = float(input(\"Enter the charge per unit = \"))\n",
    "num_persons = int(input(\"Enter the number of persons living in room/flat = \"))\n",
    "\n",
    "# Calculation\n",
    "total_electricity = electricity_units * charge_per_unit\n",
    "total_expense = rent + food + total_electricity\n",
    "each_person_pays = total_expense / num_persons\n",
    "\n",
    "# Output (formatted with 2 decimal places)\n",
    "print(\"\\n------ Expense Summary ------\")\n",
    "print(f\"Total Rent: ₹{rent:.2f}\")\n",
    "print(f\"Total Food: ₹{food:.2f}\")\n",
    "print(f\"Total Electricity: ₹{total_electricity:.2f}\")\n",
    "print(f\"Overall Monthly Expense: ₹{total_expense:.2f}\")\n",
    "print(f\"Each person will pay: ₹{each_person_pays:.2f}\")\n"
   ]
  },
  {
   "cell_type": "code",
   "execution_count": null,
   "id": "474fae57-3429-40df-bc08-8296ca5cd32b",
   "metadata": {},
   "outputs": [],
   "source": []
  }
 ],
 "metadata": {
  "kernelspec": {
   "display_name": "Python 3 (ipykernel)",
   "language": "python",
   "name": "python3"
  },
  "language_info": {
   "codemirror_mode": {
    "name": "ipython",
    "version": 3
   },
   "file_extension": ".py",
   "mimetype": "text/x-python",
   "name": "python",
   "nbconvert_exporter": "python",
   "pygments_lexer": "ipython3",
   "version": "3.13.5"
  }
 },
 "nbformat": 4,
 "nbformat_minor": 5
}
