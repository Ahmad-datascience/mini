{
 "cells": [
  {
   "cell_type": "markdown",
   "id": "58ea8bca-84ac-49c0-8557-eee8c18466c0",
   "metadata": {},
   "source": [
    "# About the Project: Hostel/Flat Expense Splitter\n",
    "\n",
    "This Python mini project calculates and splits monthly shared living expenses among roommates. It takes inputs such as rent, food cost, electricity usage, and the number of people, then calculates how much each person needs to pay.\n",
    "\n",
    "# Features:\n",
    "\n",
    "Accepts inputs for rent, food, electricity units, and charge per unit\n",
    "\n",
    "Calculates total monthly expenses\n",
    "\n",
    "Splits the cost equally among all roommates\n",
    "\n",
    "Simple and beginner-friendly CLI interface\n",
    "\n",
    "Useful for hostel or shared flat budgeting"
   ]
  },
  {
   "cell_type": "code",
   "execution_count": 1,
   "id": "5fb4f4c4-c397-498f-8cd8-e77d9a917081",
   "metadata": {
    "scrolled": true
   },
   "outputs": [
    {
     "name": "stdin",
     "output_type": "stream",
     "text": [
      "Enter your hostel/flat rent =  5555\n",
      "Enter the amount of food ordered =  663\n",
      "Enter the total of electricity spend (in units) =  10\n",
      "Enter the charge per unit =  55\n",
      "Enter the number of persons living in room/flat =  5\n"
     ]
    },
    {
     "name": "stdout",
     "output_type": "stream",
     "text": [
      "Each person will pay =  1353\n"
     ]
    }
   ],
   "source": [
    "rent = int(input(\"Enter your hostel/flat rent = \"))\n",
    "food = int(input(\"Enter the amount of food ordered = \"))\n",
    "electricity_units = int(input(\"Enter the total of electricity spend (in units) = \"))\n",
    "charge_per_unit = int(input(\"Enter the charge per unit = \"))\n",
    "num_persons = int(input(\"Enter the number of persons living in room/flat = \"))\n",
    "\n",
    "# Calculation Section\n",
    "total_electricity = electricity_units * charge_per_unit\n",
    "total_expense = rent + food + total_electricity\n",
    "each_person_pays = total_expense // num_persons\n",
    "\n",
    "# Output Section\n",
    "print(\"Each person will pay = \", each_person_pays)\n"
   ]
  },
  {
   "cell_type": "markdown",
   "id": "ad7faa2e-7cee-4ad0-a592-7e286c295b59",
   "metadata": {},
   "source": [
    "# Digital Clock"
   ]
  },
  {
   "cell_type": "code",
   "execution_count": 1,
   "id": "2f066443-5636-4288-9070-356739fa37a0",
   "metadata": {},
   "outputs": [],
   "source": [
    "import tkinter as tk\n",
    "from time import strftime\n",
    "\n",
    "root = tk.Tk()\n",
    "root.title(\"Digital Clock\")\n",
    "root.geometry(\"700x250\")\n",
    "root.configure(bg='black')\n",
    "\n",
    "def time():\n",
    "    string = strftime('%I:%M:%S %p\\n\\n%A, %d %B %Y')\n",
    "    label.config(text=string)\n",
    "    label.after(1000, time)\n",
    "\n",
    "label = tk.Label(root,\n",
    "                 font=('Segoe UI', 40, 'bold'),\n",
    "                 bg='black',\n",
    "                 fg='cyan',\n",
    "                 justify='center')\n",
    "label.pack(expand=True, fill='both')\n",
    "\n",
    "time()\n",
    "root.mainloop()\n"
   ]
  },
  {
   "cell_type": "code",
   "execution_count": null,
   "id": "929d2e8a-bc18-47bb-9ba5-b72bb402590e",
   "metadata": {},
   "outputs": [],
   "source": []
  },
  {
   "cell_type": "code",
   "execution_count": null,
   "id": "746af850-5699-4089-abb3-c9631d39c7f8",
   "metadata": {},
   "outputs": [],
   "source": []
  }
 ],
 "metadata": {
  "kernelspec": {
   "display_name": "Python 3 (ipykernel)",
   "language": "python",
   "name": "python3"
  },
  "language_info": {
   "codemirror_mode": {
    "name": "ipython",
    "version": 3
   },
   "file_extension": ".py",
   "mimetype": "text/x-python",
   "name": "python",
   "nbconvert_exporter": "python",
   "pygments_lexer": "ipython3",
   "version": "3.13.5"
  }
 },
 "nbformat": 4,
 "nbformat_minor": 5
}
