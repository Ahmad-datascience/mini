{
 "cells": [
  {
   "cell_type": "markdown",
   "id": "7048671c-7992-4793-997d-11fb48042d7e",
   "metadata": {},
   "source": [
    "# About the Project: Digital Clock using Python\n",
    "\n",
    "This is a mini project that creates a real-time digital clock using Python’s Tkinter library. It displays the current time in 12-hour format with AM/PM, and also shows the full date (day, month, year, weekday). The clock updates every second automatically.\n",
    "\n",
    "# Features:\n",
    "\n",
    "Real-time time and date display\n",
    "\n",
    "12-hour format with AM/PM\n",
    "\n",
    "Built using Tkinter (no external libraries)\n",
    "\n",
    "Clean and responsive GUI\n",
    "\n",
    "Ideal for beginners in Python GUI programming\n"
   ]
  },
  {
   "cell_type": "code",
   "execution_count": 2,
   "id": "88413e74-93fe-48cf-8ba8-ee549fd9246d",
   "metadata": {},
   "outputs": [],
   "source": [
    "import tkinter as tk\n",
    "from time import strftime\n",
    "\n",
    "root = tk.Tk()\n",
    "root.title(\"Digital Clock\")\n",
    "root.geometry(\"700x250\")\n",
    "root.configure(bg='black')\n",
    "\n",
    "def time():\n",
    "    string = strftime('%I:%M:%S %p\\n\\n%A, %d %B %Y')\n",
    "    label.config(text=string)\n",
    "    label.after(1000, time)\n",
    "\n",
    "label = tk.Label(root,\n",
    "                 font=('Segoe UI', 40, 'bold'),\n",
    "                 bg='black',\n",
    "                 fg='cyan',\n",
    "                 justify='center')\n",
    "label.pack(expand=True, fill='both')\n",
    "\n",
    "time()\n",
    "root.mainloop()\n"
   ]
  },
  {
   "cell_type": "code",
   "execution_count": null,
   "id": "acad3bb8-26d7-4712-aa7d-52ee46dd083c",
   "metadata": {},
   "outputs": [],
   "source": []
  }
 ],
 "metadata": {
  "kernelspec": {
   "display_name": "Python 3 (ipykernel)",
   "language": "python",
   "name": "python3"
  },
  "language_info": {
   "codemirror_mode": {
    "name": "ipython",
    "version": 3
   },
   "file_extension": ".py",
   "mimetype": "text/x-python",
   "name": "python",
   "nbconvert_exporter": "python",
   "pygments_lexer": "ipython3",
   "version": "3.13.5"
  }
 },
 "nbformat": 4,
 "nbformat_minor": 5
}
